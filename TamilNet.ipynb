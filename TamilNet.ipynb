{
  "cells": [
    {
      "cell_type": "code",
      "execution_count": 1,
      "metadata": {
        "id": "h-QEprC6DU6m"
      },
      "outputs": [
        {
          "name": "stderr",
          "output_type": "stream",
          "text": [
            "Exception ignored in: <bound method IPythonKernel._clean_thread_parent_frames of <ipykernel.ipkernel.IPythonKernel object at 0x0000024AD0277B90>>\n",
            "Traceback (most recent call last):\n",
            "  File \"C:\\Users\\Geetha-Murugan\\AppData\\Roaming\\Python\\Python312\\site-packages\\ipykernel\\ipkernel.py\", line 770, in _clean_thread_parent_frames\n",
            "    def _clean_thread_parent_frames(\n",
            "\n",
            "KeyboardInterrupt: \n"
          ]
        }
      ],
      "source": [
        "from PIL import Image, ImageOps, ImageFilter\n",
        "import numpy as np\n",
        "from scipy import ndimage\n",
        "from torchvision import datasets, transforms\n",
        "import torch\n",
        "import pandas as pd\n",
        "import matplotlib.pyplot as plt\n",
        "import torchvision\n",
        "import torch.nn as nn\n",
        "import torch.nn.functional as F\n",
        "import torch.optim as optim"
      ]
    },
    {
      "cell_type": "code",
      "execution_count": 5,
      "metadata": {
        "colab": {
          "base_uri": "https://localhost:8080/",
          "height": 34
        },
        "id": "iRU5AIfmDa2t",
        "outputId": "e50240ef-d915-482e-a896-62179475c7cf"
      },
      "outputs": [
        {
          "name": "stdout",
          "output_type": "stream",
          "text": [
            "cpu\n"
          ]
        }
      ],
      "source": [
        "device = torch.device(\"cuda:0\" if torch.cuda.is_available() else \"cpu\")\n",
        "print(device)"
      ]
    },
    {
      "cell_type": "code",
      "execution_count": 6,
      "metadata": {
        "id": "wbRgPKvMDbhM"
      },
      "outputs": [],
      "source": [
        "class Process(object):\n",
        "    def __call__(self, img):\n",
        "        converted = img.convert(\"L\")\n",
        "        inverted = ImageOps.invert(converted)\n",
        "        thick = inverted.filter(ImageFilter.MaxFilter(5))\n",
        "        ratio = 48.0 / max(thick.size)\n",
        "        new_size = tuple([int(round(x*ratio)) for x in thick.size])\n",
        "        res = thick.resize(new_size, Image.LANCZOS)\n",
        "        \n",
        "        arr = np.asarray(res)\n",
        "        com = ndimage.measurements.center_of_mass(arr)\n",
        "        result = Image.new(\"L\", (64, 64))\n",
        "        box = (int(round(32.0 - com[1])), int(round(32.0 - com[0])))\n",
        "        result.paste(res, box)\n",
        "        return result"
      ]
    },
    {
      "cell_type": "code",
      "execution_count": 7,
      "metadata": {
        "colab": {
          "base_uri": "https://localhost:8080/",
          "height": 85
        },
        "id": "txqH1qVtDdgO",
        "outputId": "cb01538f-c146-43d0-c77d-3fb366269d15"
      },
      "outputs": [
        {
          "name": "stdout",
          "output_type": "stream",
          "text": [
            "50683\n",
            "40546\n",
            "10137\n",
            "26926\n"
          ]
        }
      ],
      "source": [
        "transform = transforms.Compose([Process(), transforms.ToTensor(), transforms.Normalize((0.5), (0.5))])\n",
        "train_dir = \"C:\\\\Users\\\\Geetha-Murugan\\\\Desktop\\\\New folder (2)\\\\TamilNet-master\\\\data\\\\processed\\\\train\"\n",
        "test_dir = \"C:\\\\Users\\\\Geetha-Murugan\\\\Desktop\\\\New folder (2)\\\\TamilNet-master\\\\data\\\\processed\\\\test\"\n",
        "\n",
        "training_set = datasets.ImageFolder(train_dir, transform)\n",
        "print(len(training_set))\n",
        "trainsize = int(round(0.8 * len(training_set)))\n",
        "trainset, valset = torch.utils.data.random_split(training_set, [trainsize, len(training_set) - trainsize], generator=torch.Generator().manual_seed(42))\n",
        "print(len(trainset))\n",
        "print(len(valset))\n",
        "testset = datasets.ImageFolder(test_dir, transform)\n",
        "print(len(testset))\n",
        "trainloader = torch.utils.data.DataLoader(trainset, batch_size=64, shuffle=True)\n",
        "valloader = torch.utils.data.DataLoader(valset, batch_size=64, shuffle=True)\n",
        "testloader = torch.utils.data.DataLoader(testset, batch_size=64, shuffle=True)"
      ]
    },
    {
      "cell_type": "code",
      "execution_count": 8,
      "metadata": {
        "colab": {
          "base_uri": "https://localhost:8080/",
          "height": 54
        },
        "id": "av32cfj5DhQw",
        "outputId": "7822e5b2-8f0c-4c66-a2df-e6a812311d4d"
      },
      "outputs": [
        {
          "name": "stdout",
          "output_type": "stream",
          "text": [
            "['அ', 'ஆ', 'ஓ', 'ஙூ', 'சூ', 'ஞூ', 'டூ', 'ணூ', 'தூ', 'நூ', 'பூ', 'மூ', 'யூ', 'ஃ', 'ரூ', 'லூ', 'வூ', 'ழூ', 'ளூ', 'றூ', 'னூ', 'ா', 'ெ', 'ே', 'க', 'ை', 'ஸ்ரீ', 'ஸு', 'ஷு', 'ஜு', 'ஹு', 'க்ஷு', 'ஸூ', 'ஷூ', 'ஜூ', 'ங', 'ஹூ', 'க்ஷூ', 'க்', 'ங்', 'ச்', 'ஞ்', 'ட்', 'ண்', 'த்', 'ந்', 'ச', 'ப்', 'ம்', 'ய்', 'ர்', 'ல்', 'வ்', 'ழ்', 'ள்', 'ற்', 'ன்', 'ஞ', 'ஸ்', 'ஷ்', 'ஜ்', 'ஹ்', 'க்ஷ்', 'ஔ', 'ட', 'ண', 'த', 'ந', 'இ', 'ப', 'ம', 'ய', 'ர', 'ல', 'வ', 'ழ', 'ள', 'ற', 'ன', 'ஈ', 'ஸ', 'ஷ', 'ஜ', 'ஹ', 'க்ஷ', 'கி', 'ஙி', 'சி', 'ஞி', 'டி', 'உ', 'ணி', 'தி', 'நி', 'பி', 'மி', 'யி', 'ரி', 'லி', 'வி', 'ழி', 'ஊ', 'ளி', 'றி', 'னி', 'ஸி', 'ஷி', 'ஜி', 'ஹி', 'க்ஷி', 'கீ', 'ஙீ', 'எ', 'சீ', 'ஞீ', 'டீ', 'ணீ', 'தீ', 'நீ', 'பீ', 'மீ', 'யீ', 'ரீ', 'ஏ', 'லீ', 'வீ', 'ழீ', 'ளீ', 'றீ', 'னீ', 'ஸீ', 'ஷீ', 'ஜீ', 'ஹீ', 'ஐ', 'க்ஷீ', 'கு', 'ஙு', 'சு', 'ஞு', 'டு', 'ணு', 'து', 'நு', 'பு', 'ஒ', 'மு', 'யு', 'ரு', 'லு', 'வு', 'ழு', 'ளு', 'று', 'னு', 'கூ']\n"
          ]
        }
      ],
      "source": [
        "df = pd.read_csv(\"C:\\\\Users\\\\Geetha-Murugan\\\\Desktop\\\\New folder (2)\\\\TamilNet-master\\\\data\\\\TamilChar.csv\", header=0)\n",
        "unicode_list = df[\"Unicode\"].tolist()\n",
        "char_list = []\n",
        "\n",
        "for element in unicode_list:\n",
        "    code_list = element.split()\n",
        "    chars_together = \"\"\n",
        "    for code in code_list:\n",
        "        hex_str = \"0x\" + code\n",
        "        char_int = int(hex_str, 16)\n",
        "        character = chr(char_int)\n",
        "        chars_together += character\n",
        "    char_list.append(chars_together)\n",
        "\n",
        "classes = []\n",
        "for i in range(156):\n",
        "    index = int(testset.classes[i])\n",
        "    char = char_list[index]\n",
        "    classes.append(char)\n",
        "\n",
        "print(classes)"
      ]
    },
    {
      "cell_type": "code",
      "execution_count": 11,
      "metadata": {
        "colab": {
          "base_uri": "https://localhost:8080/",
          "height": 154
        },
        "id": "IXrxsJYBDkRn",
        "outputId": "be42de83-61c5-4820-d708-a1ca8dfd99db"
      },
      "outputs": [
        {
          "name": "stderr",
          "output_type": "stream",
          "text": [
            "C:\\Users\\Geetha-Murugan\\AppData\\Local\\Temp\\ipykernel_20808\\3581622984.py:11: DeprecationWarning: Please import `center_of_mass` from the `scipy.ndimage` namespace; the `scipy.ndimage.measurements` namespace is deprecated and will be removed in SciPy 2.0.0.\n",
            "  com = ndimage.measurements.center_of_mass(arr)\n"
          ]
        },
        {
          "data": {
            "image/png": "[encoded data removed]",
            "text/plain": [
              "<Figure size 640x480 with 1 Axes>"
            ]
          },
          "metadata": {},
          "output_type": "display_data"
        },
        {
          "name": "stdout",
          "output_type": "stream",
          "text": [
            "   ஹூ     உ     ழ    ஙீ\n"
          ]
        }
      ],
      "source": [
        "def imshow(img):\n",
        "    img = img / 2 + 0.5\n",
        "    npimg = img.numpy()\n",
        "    plt.imshow(np.transpose(npimg, (1, 2, 0)))\n",
        "    plt.show()\n",
        "\n",
        "\n",
        "dataiter = iter(trainloader)\n",
        "images, labels = next(dataiter)\n",
        "\n",
        "imshow(torchvision.utils.make_grid(images[:4]))\n",
        "print(' '.join('%5s' % classes[labels[j]] for j in range(4)))"
      ]
    },
    {
      "cell_type": "code",
      "execution_count": 12,
      "metadata": {
        "id": "NkkQLAN3DlkH"
      },
      "outputs": [],
      "source": [
        "def initialize_weights(m):\n",
        "    if isinstance(m, nn.Conv2d) or isinstance(m, nn.Linear):\n",
        "        nn.init.kaiming_normal_(m.weight)\n",
        "        nn.init.zeros_(m.bias)"
      ]
    },
    {
      "cell_type": "code",
      "execution_count": 13,
      "metadata": {
        "colab": {
          "base_uri": "https://localhost:8080/",
          "height": 357
        },
        "id": "hpcbQzNWDl82",
        "outputId": "06474202-f6f8-42e4-cae6-5a5a8fcb2679"
      },
      "outputs": [
        {
          "data": {
            "text/plain": [
              "Net(\n",
              "  (conv1): Conv2d(1, 16, kernel_size=(3, 3), stride=(1, 1), padding=(1, 1))\n",
              "  (bn1): BatchNorm2d(16, eps=1e-05, momentum=0.1, affine=True, track_running_stats=True)\n",
              "  (conv2): Conv2d(16, 16, kernel_size=(3, 3), stride=(1, 1), padding=(1, 1))\n",
              "  (bn2): BatchNorm2d(16, eps=1e-05, momentum=0.1, affine=True, track_running_stats=True)\n",
              "  (pool1): MaxPool2d(kernel_size=2, stride=2, padding=0, dilation=1, ceil_mode=False)\n",
              "  (conv3): Conv2d(16, 32, kernel_size=(3, 3), stride=(1, 1), padding=(1, 1))\n",
              "  (bn3): BatchNorm2d(32, eps=1e-05, momentum=0.1, affine=True, track_running_stats=True)\n",
              "  (conv4): Conv2d(32, 32, kernel_size=(3, 3), stride=(1, 1), padding=(1, 1))\n",
              "  (bn4): BatchNorm2d(32, eps=1e-05, momentum=0.1, affine=True, track_running_stats=True)\n",
              "  (conv5): Conv2d(32, 64, kernel_size=(3, 3), stride=(1, 1), padding=(1, 1))\n",
              "  (bn5): BatchNorm2d(64, eps=1e-05, momentum=0.1, affine=True, track_running_stats=True)\n",
              "  (conv6): Conv2d(64, 64, kernel_size=(3, 3), stride=(1, 1), padding=(1, 1))\n",
              "  (bn6): BatchNorm2d(64, eps=1e-05, momentum=0.1, affine=True, track_running_stats=True)\n",
              "  (fc1): Linear(in_features=4096, out_features=1024, bias=True)\n",
              "  (bn7): BatchNorm1d(1024, eps=1e-05, momentum=0.1, affine=True, track_running_stats=True)\n",
              "  (fc2): Linear(in_features=1024, out_features=512, bias=True)\n",
              "  (bn8): BatchNorm1d(512, eps=1e-05, momentum=0.1, affine=True, track_running_stats=True)\n",
              "  (fc3): Linear(in_features=512, out_features=156, bias=True)\n",
              ")"
            ]
          },
          "execution_count": 13,
          "metadata": {},
          "output_type": "execute_result"
        }
      ],
      "source": [
        "class Net(nn.Module):\n",
        "    def __init__(self):\n",
        "        super(Net, self).__init__()\n",
        "        \n",
        "        self.conv1 = nn.Conv2d(1, 16, 3, padding=1)\n",
        "        self.bn1 = nn.BatchNorm2d(16)\n",
        "        self.conv2 = nn.Conv2d(16, 16, 3, padding=1)\n",
        "        self.bn2 = nn.BatchNorm2d(16)\n",
        "        self.pool1 = nn.MaxPool2d(2, 2)\n",
        "\n",
        "        self.conv3 = nn.Conv2d(16, 32, 3, padding=1)\n",
        "        self.bn3 = nn.BatchNorm2d(32)\n",
        "        self.conv4 = nn.Conv2d(32, 32, 3, padding=1)\n",
        "        self.bn4 = nn.BatchNorm2d(32)\n",
        "\n",
        "        self.conv5 = nn.Conv2d(32, 64, 3, padding=1)\n",
        "        self.bn5 = nn.BatchNorm2d(64)\n",
        "        self.conv6 = nn.Conv2d(64, 64, 3, padding=1)\n",
        "        self.bn6 = nn.BatchNorm2d(64)\n",
        "        \n",
        "        self.fc1 = nn.Linear(64 * 8 * 8, 1024)\n",
        "        self.bn7 = nn.BatchNorm1d(1024)\n",
        "        self.fc2 = nn.Linear(1024, 512)\n",
        "        self.bn8 = nn.BatchNorm1d(512)\n",
        "        self.fc3 = nn.Linear(512, 156)\n",
        "\n",
        "    def forward(self, x):\n",
        "        \n",
        "        x = F.relu(self.bn1(self.conv1(x)))\n",
        "        x = self.pool1(F.relu(self.bn2(self.conv2(x))))\n",
        "        \n",
        "        x = F.relu(self.bn3(self.conv3(x)))\n",
        "        x = self.pool1(F.relu(self.bn4(self.conv4(x))))\n",
        "        \n",
        "        x = F.relu(self.bn5(self.conv5(x)))\n",
        "        x = self.pool1(F.relu(self.bn6(self.conv6(x))))\n",
        "        \n",
        "        x = x.view(-1, 64 * 8 * 8)\n",
        "        x = F.relu(self.bn7(self.fc1(x)))\n",
        "        x = F.relu(self.bn8(self.fc2(x)))\n",
        "        x = self.fc3(x)\n",
        "        return x\n",
        "    \n",
        "net = Net()\n",
        "net.apply(initialize_weights)\n",
        "net.to(device)"
      ]
    },
    {
      "cell_type": "code",
      "execution_count": 14,
      "metadata": {
        "id": "ine_E5ISDp1E"
      },
      "outputs": [],
      "source": [
        "criterion = nn.CrossEntropyLoss()\n",
        "optimizer = optim.Adam(net.parameters(), weight_decay=0.003, lr=0.001)"
      ]
    },
    {
      "cell_type": "code",
      "execution_count": 11,
      "metadata": {
        "colab": {
          "base_uri": "https://localhost:8080/",
          "height": 1000
        },
        "id": "US4K8pFrDswc",
        "outputId": "db8da172-0e5c-4ffa-e2ad-cddfab9f317e"
      },
      "outputs": [
        {
          "name": "stdout",
          "output_type": "stream",
          "text": [
            "[1,   100] loss: 2.468\n",
            "[1,   200] loss: 0.999\n",
            "[1,   300] loss: 0.746\n",
            "[1,   400] loss: 0.619\n",
            "[1,   500] loss: 0.571\n",
            "[1,   600] loss: 0.503\n",
            "EPOCH 1\n",
            "Training loss: 0.9591545365026423\n",
            "Training accuracy: 75.9779016425788%\n",
            "Validation loss: 0.5245750852857478\n",
            "Validation accuracy: 86.5838019137812%\n",
            "----------------------------------------------------\n",
            "[2,   100] loss: 0.428\n",
            "[2,   200] loss: 0.454\n",
            "[2,   300] loss: 0.470\n",
            "[2,   400] loss: 0.457\n",
            "[2,   500] loss: 0.444\n",
            "[2,   600] loss: 0.437\n",
            "EPOCH 2\n",
            "Training loss: 0.4480865190432879\n",
            "Training accuracy: 89.00508064913924%\n",
            "Validation loss: 0.44032027254069805\n",
            "Validation accuracy: 89.05987964881129%\n",
            "----------------------------------------------------\n",
            "[3,   100] loss: 0.381\n",
            "[3,   200] loss: 0.415\n",
            "[3,   300] loss: 0.399\n",
            "[3,   400] loss: 0.421\n",
            "[3,   500] loss: 0.411\n",
            "[3,   600] loss: 0.410\n",
            "EPOCH 3\n",
            "Training loss: 0.40710300129813437\n",
            "Training accuracy: 90.32210329009027%\n",
            "Validation loss: 0.4210244084975653\n",
            "Validation accuracy: 89.63204103778239%\n",
            "----------------------------------------------------\n",
            "[4,   100] loss: 0.347\n",
            "[4,   200] loss: 0.371\n",
            "[4,   300] loss: 0.400\n",
            "[4,   400] loss: 0.400\n",
            "[4,   500] loss: 0.394\n",
            "[4,   600] loss: 0.397\n",
            "EPOCH 4\n",
            "Training loss: 0.3847832774772563\n",
            "Training accuracy: 90.80797119321265%\n",
            "Validation loss: 0.4138448180279295\n",
            "Validation accuracy: 89.85893262306402%\n",
            "----------------------------------------------------\n",
            "[5,   100] loss: 0.336\n",
            "[5,   200] loss: 0.335\n",
            "[5,   300] loss: 0.362\n",
            "[5,   400] loss: 0.371\n",
            "[5,   500] loss: 0.373\n",
            "[5,   600] loss: 0.357\n",
            "EPOCH 5\n",
            "Training loss: 0.35773171333275733\n",
            "Training accuracy: 91.80190401025995%\n",
            "Validation loss: 0.36740716524209754\n",
            "Validation accuracy: 91.37811975929762%\n",
            "----------------------------------------------------\n",
            "[6,   100] loss: 0.301\n",
            "[6,   200] loss: 0.336\n",
            "[6,   300] loss: 0.336\n",
            "[6,   400] loss: 0.340\n",
            "[6,   500] loss: 0.340\n",
            "[6,   600] loss: 0.353\n",
            "EPOCH 6\n",
            "Training loss: 0.3342488830845645\n",
            "Training accuracy: 92.40862230552952%\n",
            "Validation loss: 0.3458883405566698\n",
            "Validation accuracy: 92.10811877281247%\n",
            "----------------------------------------------------\n",
            "[7,   100] loss: 0.273\n",
            "[7,   200] loss: 0.311\n",
            "[7,   300] loss: 0.333\n",
            "[7,   400] loss: 0.342\n",
            "[7,   500] loss: 0.337\n",
            "[7,   600] loss: 0.323\n",
            "EPOCH 7\n",
            "Training loss: 0.3207173349825224\n",
            "Training accuracy: 92.79090415824002%\n",
            "Validation loss: 0.36761542524684165\n",
            "Validation accuracy: 91.33866035316169%\n",
            "----------------------------------------------------\n",
            "[8,   100] loss: 0.280\n",
            "[8,   200] loss: 0.300\n",
            "[8,   300] loss: 0.307\n",
            "[8,   400] loss: 0.321\n",
            "[8,   500] loss: 0.316\n",
            "[8,   600] loss: 0.321\n",
            "EPOCH 8\n",
            "Training loss: 0.30975091488532003\n",
            "Training accuracy: 93.23237803975731%\n",
            "Validation loss: 0.3666975826298425\n",
            "Validation accuracy: 91.72338956298708%\n",
            "----------------------------------------------------\n",
            "[9,   100] loss: 0.280\n",
            "[9,   200] loss: 0.288\n",
            "[9,   300] loss: 0.289\n",
            "[9,   400] loss: 0.305\n",
            "[9,   500] loss: 0.298\n",
            "[9,   600] loss: 0.334\n",
            "EPOCH 9\n",
            "Training loss: 0.30078544683968705\n",
            "Training accuracy: 93.2915700685641%\n",
            "Validation loss: 0.350271509375059\n",
            "Validation accuracy: 91.70365985991911%\n",
            "----------------------------------------------------\n",
            "[10,   100] loss: 0.262\n",
            "[10,   200] loss: 0.276\n",
            "[10,   300] loss: 0.285\n",
            "[10,   400] loss: 0.288\n",
            "[10,   500] loss: 0.310\n",
            "[10,   600] loss: 0.307\n",
            "EPOCH 10\n",
            "Training loss: 0.2896847911669695\n",
            "Training accuracy: 93.77250530261925%\n",
            "Validation loss: 0.35637610398701125\n",
            "Validation accuracy: 91.66420045378317%\n",
            "----------------------------------------------------\n",
            "[11,   100] loss: 0.250\n",
            "[11,   200] loss: 0.256\n",
            "[11,   300] loss: 0.294\n",
            "[11,   400] loss: 0.287\n",
            "[11,   500] loss: 0.311\n",
            "[11,   600] loss: 0.301\n",
            "EPOCH 11\n",
            "Training loss: 0.2850723471467722\n",
            "Training accuracy: 93.97474473437578%\n",
            "Validation loss: 0.3244724431733614\n",
            "Validation accuracy: 92.39419946729802%\n",
            "----------------------------------------------------\n",
            "[12,   100] loss: 0.250\n",
            "[12,   200] loss: 0.263\n",
            "[12,   300] loss: 0.270\n",
            "[12,   400] loss: 0.283\n",
            "[12,   500] loss: 0.287\n",
            "[12,   600] loss: 0.309\n",
            "EPOCH 12\n",
            "Training loss: 0.2785169692889296\n",
            "Training accuracy: 94.08572978838849%\n",
            "Validation loss: 0.34623754557225433\n",
            "Validation accuracy: 91.87136233599685%\n",
            "----------------------------------------------------\n",
            "[13,   100] loss: 0.239\n",
            "[13,   200] loss: 0.273\n",
            "[13,   300] loss: 0.276\n",
            "[13,   400] loss: 0.287\n",
            "[13,   500] loss: 0.294\n",
            "[13,   600] loss: 0.286\n",
            "EPOCH 13\n",
            "Training loss: 0.2764398982397507\n",
            "Training accuracy: 94.08819612292211%\n",
            "Validation loss: 0.3501773741843374\n",
            "Validation accuracy: 92.0193351090066%\n",
            "----------------------------------------------------\n",
            "[14,   100] loss: 0.241\n",
            "[14,   200] loss: 0.258\n",
            "[14,   300] loss: 0.281\n",
            "[14,   400] loss: 0.275\n",
            "[14,   500] loss: 0.267\n",
            "[14,   600] loss: 0.292\n",
            "EPOCH 14\n",
            "Training loss: 0.26994627919082065\n",
            "Training accuracy: 94.3767572633552%\n",
            "Validation loss: 0.33160746279841896\n",
            "Validation accuracy: 92.04892966360856%\n",
            "----------------------------------------------------\n",
            "[15,   100] loss: 0.226\n",
            "[15,   200] loss: 0.262\n",
            "[15,   300] loss: 0.277\n",
            "[15,   400] loss: 0.264\n",
            "[15,   500] loss: 0.273\n",
            "[15,   600] loss: 0.286\n",
            "EPOCH 15\n",
            "Training loss: 0.26693911869489567\n",
            "Training accuracy: 94.468011641099%\n",
            "Validation loss: 0.32850414495137925\n",
            "Validation accuracy: 92.26595639735622%\n",
            "----------------------------------------------------\n",
            "[16,   100] loss: 0.244\n",
            "[16,   200] loss: 0.260\n",
            "[16,   300] loss: 0.261\n",
            "[16,   400] loss: 0.280\n",
            "[16,   500] loss: 0.270\n",
            "[16,   600] loss: 0.275\n",
            "EPOCH 16\n",
            "Training loss: 0.26701618649801623\n",
            "Training accuracy: 94.38908893602328%\n",
            "Validation loss: 0.3270873740261048\n",
            "Validation accuracy: 92.28568610042419%\n",
            "----------------------------------------------------\n",
            "[17,   100] loss: 0.231\n",
            "[17,   200] loss: 0.255\n",
            "[17,   300] loss: 0.255\n",
            "[17,   400] loss: 0.267\n",
            "[17,   500] loss: 0.293\n",
            "[17,   600] loss: 0.282\n",
            "EPOCH 17\n",
            "Training loss: 0.26640684170803636\n",
            "Training accuracy: 94.46307897203177%\n",
            "Validation loss: 0.33199765407746273\n",
            "Validation accuracy: 92.12784847588044%\n",
            "----------------------------------------------------\n",
            "[18,   100] loss: 0.229\n",
            "[18,   200] loss: 0.248\n",
            "[18,   300] loss: 0.266\n",
            "[18,   400] loss: 0.260\n",
            "[18,   500] loss: 0.282\n",
            "[18,   600] loss: 0.291\n",
            "EPOCH 18\n",
            "Training loss: 0.26364293662008054\n",
            "Training accuracy: 94.4384156266956%\n",
            "Validation loss: 0.3320066634162451\n",
            "Validation accuracy: 92.42379402189997%\n",
            "----------------------------------------------------\n",
            "[19,   100] loss: 0.237\n",
            "[19,   200] loss: 0.235\n",
            "[19,   300] loss: 0.257\n",
            "[19,   400] loss: 0.270\n",
            "[19,   500] loss: 0.276\n",
            "[19,   600] loss: 0.277\n",
            "EPOCH 19\n",
            "Training loss: 0.261541000064298\n",
            "Training accuracy: 94.54693434617471%\n",
            "Validation loss: 0.3361051444107933\n",
            "Validation accuracy: 92.3448752096281%\n",
            "----------------------------------------------------\n",
            "[20,   100] loss: 0.234\n",
            "[20,   200] loss: 0.238\n",
            "[20,   300] loss: 0.266\n",
            "[20,   400] loss: 0.264\n",
            "[20,   500] loss: 0.268\n",
            "[20,   600] loss: 0.266\n",
            "EPOCH 20\n",
            "Training loss: 0.25918637343764994\n",
            "Training accuracy: 94.68751541459083%\n",
            "Validation loss: 0.3329457980800665\n",
            "Validation accuracy: 92.24622669428825%\n",
            "----------------------------------------------------\n",
            "[21,   100] loss: 0.228\n",
            "[21,   200] loss: 0.234\n",
            "[21,   300] loss: 0.275\n",
            "[21,   400] loss: 0.252\n",
            "[21,   500] loss: 0.264\n",
            "[21,   600] loss: 0.275\n",
            "EPOCH 21\n",
            "Training loss: 0.2566154537300656\n",
            "Training accuracy: 94.65298673112021%\n",
            "Validation loss: 0.3301384816617082\n",
            "Validation accuracy: 92.27582124889021%\n",
            "----------------------------------------------------\n",
            "[22,   100] loss: 0.234\n",
            "[22,   200] loss: 0.249\n",
            "[22,   300] loss: 0.250\n",
            "[22,   400] loss: 0.273\n",
            "[22,   500] loss: 0.263\n",
            "[22,   600] loss: 0.266\n",
            "EPOCH 22\n",
            "Training loss: 0.25837979913904513\n",
            "Training accuracy: 94.58392936417896%\n",
            "Validation loss: 0.3253225379410234\n",
            "Validation accuracy: 92.67041531024958%\n",
            "----------------------------------------------------\n",
            "[23,   100] loss: 0.233\n",
            "[23,   200] loss: 0.235\n",
            "[23,   300] loss: 0.239\n",
            "[23,   400] loss: 0.262\n",
            "[23,   500] loss: 0.275\n",
            "[23,   600] loss: 0.270\n",
            "EPOCH 23\n",
            "Training loss: 0.2543053231394321\n",
            "Training accuracy: 94.8034331376708%\n",
            "Validation loss: 0.32183907217112495\n",
            "Validation accuracy: 92.18703758508434%\n",
            "----------------------------------------------------\n",
            "[24,   100] loss: 0.222\n",
            "[24,   200] loss: 0.241\n",
            "[24,   300] loss: 0.252\n",
            "[24,   400] loss: 0.268\n",
            "[24,   500] loss: 0.257\n",
            "[24,   600] loss: 0.271\n",
            "EPOCH 24\n",
            "Training loss: 0.2537607340609699\n",
            "Training accuracy: 94.77137078873379%\n",
            "Validation loss: 0.32978692026054574\n",
            "Validation accuracy: 92.43365887343396%\n",
            "----------------------------------------------------\n",
            "[25,   100] loss: 0.216\n",
            "[25,   200] loss: 0.233\n",
            "[25,   300] loss: 0.243\n",
            "[25,   400] loss: 0.278\n",
            "[25,   500] loss: 0.270\n",
            "[25,   600] loss: 0.262\n",
            "EPOCH 25\n",
            "Training loss: 0.2533382954186094\n",
            "Training accuracy: 94.80836580673802%\n",
            "Validation loss: 0.3344873852827169\n",
            "Validation accuracy: 92.24622669428825%\n",
            "----------------------------------------------------\n",
            "[26,   100] loss: 0.229\n",
            "[26,   200] loss: 0.244\n",
            "[26,   300] loss: 0.255\n",
            "[26,   400] loss: 0.246\n",
            "[26,   500] loss: 0.253\n",
            "[26,   600] loss: 0.261\n",
            "EPOCH 26\n",
            "Training loss: 0.24902706331348923\n",
            "Training accuracy: 94.98347555862478%\n",
            "Validation loss: 0.3313209981129016\n",
            "Validation accuracy: 92.12784847588044%\n",
            "----------------------------------------------------\n",
            "[27,   100] loss: 0.220\n",
            "[27,   200] loss: 0.244\n",
            "[27,   300] loss: 0.251\n",
            "[27,   400] loss: 0.255\n",
            "[27,   500] loss: 0.252\n",
            "[27,   600] loss: 0.276\n",
            "EPOCH 27\n",
            "Training loss: 0.25220540043446027\n",
            "Training accuracy: 94.80836580673802%\n",
            "Validation loss: 0.31500010355414754\n",
            "Validation accuracy: 93.07487422314294%\n",
            "----------------------------------------------------\n",
            "[28,   100] loss: 0.228\n",
            "[28,   200] loss: 0.243\n",
            "[28,   300] loss: 0.233\n",
            "[28,   400] loss: 0.238\n",
            "[28,   500] loss: 0.261\n",
            "[28,   600] loss: 0.273\n",
            "EPOCH 28\n",
            "Training loss: 0.24607007536321035\n",
            "Training accuracy: 94.94894687515415%\n",
            "Validation loss: 0.32190717667226576\n",
            "Validation accuracy: 92.47311827956989%\n",
            "----------------------------------------------------\n",
            "[29,   100] loss: 0.222\n",
            "[29,   200] loss: 0.239\n",
            "[29,   300] loss: 0.253\n",
            "[29,   400] loss: 0.272\n",
            "[29,   500] loss: 0.258\n",
            "[29,   600] loss: 0.255\n",
            "EPOCH 29\n",
            "Training loss: 0.25086899717023564\n",
            "Training accuracy: 94.80589947220442%\n",
            "Validation loss: 0.31749758401001255\n",
            "Validation accuracy: 92.7789286771234%\n",
            "----------------------------------------------------\n",
            "[30,   100] loss: 0.220\n",
            "[30,   200] loss: 0.234\n",
            "[30,   300] loss: 0.244\n",
            "[30,   400] loss: 0.270\n",
            "[30,   500] loss: 0.261\n",
            "[30,   600] loss: 0.269\n",
            "EPOCH 30\n",
            "Training loss: 0.2504809254611632\n",
            "Training accuracy: 94.87742317367928%\n",
            "Validation loss: 0.3039168406958127\n",
            "Validation accuracy: 92.7197395679195%\n",
            "----------------------------------------------------\n"
          ]
        },
        {
          "data": {
            "image/png": "[encoded data removed]",
            "text/plain": [
              "<Figure size 432x288 with 3 Axes>"
            ]
          },
          "metadata": {
            "needs_background": "light",
            "tags": []
          },
          "output_type": "display_data"
        }
      ],
      "source": [
        "x = []\n",
        "train_loss = []\n",
        "val_loss = []\n",
        "train_accuracy = []\n",
        "val_accuracy = []\n",
        "fig, axs = plt.subplots(3)\n",
        "\n",
        "x_two = []\n",
        "running_losses = []\n",
        "\n",
        "for epoch in range(30):\n",
        "    x.append(epoch)\n",
        "    \n",
        "    curr_train_loss = 0.0\n",
        "    train_total = 0\n",
        "    train_correct = 0\n",
        "    running_loss = 0.0\n",
        "    for i, data in enumerate(trainloader, 0):\n",
        "        inputs, labels = data[0].to(device), data[1].to(device)\n",
        "        optimizer.zero_grad()\n",
        "        \n",
        "        outputs = net(inputs)\n",
        "        _, predicted = torch.max(outputs.data, 1)\n",
        "        train_total += labels.size(0)\n",
        "        train_correct += (predicted == labels).sum().item()\n",
        "\n",
        "        loss = criterion(outputs, labels)\n",
        "        loss.backward()\n",
        "        optimizer.step()\n",
        "        curr_train_loss += loss.item()\n",
        "        \n",
        "        running_loss += loss.item()\n",
        "        if i % 100 == 99:\n",
        "            print('[%d, %5d] loss: %.3f' %\n",
        "                  (epoch + 1, i + 1, running_loss / 100))\n",
        "            running_losses.append(running_loss)\n",
        "            x_two.append(epoch + i * 64 / len(trainset))\n",
        "            running_loss = 0.0\n",
        "    \n",
        "    train_loss.append(curr_train_loss / len(trainset) * 64)\n",
        "    train_accuracy.append(100 * train_correct / train_total)\n",
        "    \n",
        "    val_correct = 0\n",
        "    val_total = 0\n",
        "    curr_val_loss = 0.0\n",
        "    with torch.no_grad():\n",
        "        for data in valloader:\n",
        "            images, labels = data[0].to(device), data[1].to(device)\n",
        "            outputs = net(images)\n",
        "            _, predicted = torch.max(outputs.data, 1)\n",
        "            val_total += labels.size(0)\n",
        "            val_correct += (predicted == labels).sum().item()\n",
        "            curr_val_loss += criterion(outputs, labels).item()\n",
        "    val_loss.append(curr_val_loss / len(valset) * 64)\n",
        "    val_accuracy.append(100 * val_correct / val_total)\n",
        "    \n",
        "    print('EPOCH ' + str(epoch + 1))\n",
        "    print('Training loss: ' + str(train_loss[-1]))\n",
        "    print('Training accuracy: ' + str(train_accuracy[-1]) + \"%\")\n",
        "    print('Validation loss: ' + str(val_loss[-1]))\n",
        "    print('Validation accuracy: ' + str(val_accuracy[-1]) + \"%\")\n",
        "    print('----------------------------------------------------')\n",
        "\n",
        "    \n",
        "    axs[0].plot(x, train_loss, 'r-', val_loss, 'b-')\n",
        "    axs[1].plot(x, train_accuracy, 'r-', val_accuracy, 'b-')\n",
        "    axs[2].plot(x_two, running_losses)"
      ]
    },
    {
      "cell_type": "code",
      "execution_count": 12,
      "metadata": {
        "colab": {
          "base_uri": "https://localhost:8080/",
          "height": 154
        },
        "id": "5BR9A1uFDwjn",
        "outputId": "d0de611c-ebb4-4e2d-9493-23e1962fb993"
      },
      "outputs": [
        {
          "data": {
            "image/png": "[encoded data removed]",
            "text/plain": [
              "<Figure size 432x288 with 1 Axes>"
            ]
          },
          "metadata": {
            "needs_background": "light",
            "tags": []
          },
          "output_type": "display_data"
        },
        {
          "name": "stdout",
          "output_type": "stream",
          "text": [
            "GroundTruth:     ணூ    ஞ்    ம்    மீ\n"
          ]
        }
      ],
      "source": [
        "dataiter = iter(testloader)\n",
        "data_thing = dataiter.next()\n",
        "images, labels = data_thing[0].to(device), data_thing[1].to(device)\n",
        "\n",
        "imgs = images.cpu()\n",
        "imshow(torchvision.utils.make_grid(imgs[:4]))\n",
        "print('GroundTruth: ', ' '.join('%5s' % classes[labels[j]] for j in range(4)))"
      ]
    },
    {
      "cell_type": "code",
      "execution_count": 13,
      "metadata": {
        "colab": {
          "base_uri": "https://localhost:8080/",
          "height": 34
        },
        "id": "jaC8EGJBDxRG",
        "outputId": "29e9919d-5db5-4ea8-f831-215bcd094fea"
      },
      "outputs": [
        {
          "name": "stdout",
          "output_type": "stream",
          "text": [
            "Predicted:     னூ    பூ    ம்    மீ\n"
          ]
        }
      ],
      "source": [
        "outputs = net(images[:4])\n",
        "_, predicted = torch.max(outputs, 1)\n",
        "\n",
        "print('Predicted: ', ' '.join('%5s' % classes[predicted[j]]\n",
        "                              for j in range(4)))"
      ]
    },
    {
      "cell_type": "code",
      "execution_count": 14,
      "metadata": {
        "colab": {
          "base_uri": "https://localhost:8080/",
          "height": 34
        },
        "id": "aG9Gco5PDyd_",
        "outputId": "640cd2d3-d1d6-401a-94c8-93357e061753"
      },
      "outputs": [
        {
          "name": "stdout",
          "output_type": "stream",
          "text": [
            "Accuracy of the network on the 10000 test images: 90.655872 %\n"
          ]
        }
      ],
      "source": [
        "correct = 0\n",
        "total = 0\n",
        "with torch.no_grad():\n",
        "    for data in testloader:\n",
        "        images, labels = data[0].to(device), data[1].to(device)\n",
        "        outputs = net(images)\n",
        "        _, predicted = torch.max(outputs.data, 1)\n",
        "        total += labels.size(0)\n",
        "        correct += (predicted == labels).sum().item()\n",
        "\n",
        "print('Accuracy of the network on the 10000 test images: %f %%' % (100 * correct / total))"
      ]
    },
    {
      "cell_type": "code",
      "execution_count": 15,
      "metadata": {
        "colab": {
          "base_uri": "https://localhost:8080/",
          "height": 17
        },
        "id": "j5eSTfu_D3d1",
        "outputId": "c262adc5-52f9-47d0-e70e-66b507549eed"
      },
      "outputs": [
        {
          "data": {
            "application/javascript": "\n    async function download(id, filename, size) {\n      if (!google.colab.kernel.accessAllowed) {\n        return;\n      }\n      const div = document.createElement('div');\n      const label = document.createElement('label');\n      label.textContent = `Downloading \"${filename}\": `;\n      div.appendChild(label);\n      const progress = document.createElement('progress');\n      progress.max = size;\n      div.appendChild(progress);\n      document.body.appendChild(div);\n\n      const buffers = [];\n      let downloaded = 0;\n\n      const channel = await google.colab.kernel.comms.open(id);\n      // Send a message to notify the kernel that we're ready.\n      channel.send({})\n\n      for await (const message of channel.messages) {\n        // Send a message to notify the kernel that we're ready.\n        channel.send({})\n        if (message.buffers) {\n          for (const buffer of message.buffers) {\n            buffers.push(buffer);\n            downloaded += buffer.byteLength;\n            progress.value = downloaded;\n          }\n        }\n      }\n      const blob = new Blob(buffers, {type: 'application/binary'});\n      const a = document.createElement('a');\n      a.href = window.URL.createObjectURL(blob);\n      a.download = filename;\n      div.appendChild(a);\n      a.click();\n      div.remove();\n    }\n  ",
            "text/plain": [
              "<IPython.core.display.Javascript object>"
            ]
          },
          "metadata": {
            "tags": []
          },
          "output_type": "display_data"
        },
        {
          "data": {
            "application/javascript": "download(\"download_fc8aa2b4-1a1b-4467-9f7d-c222743c4037\", \"tamil_net.pt\", 19534360)",
            "text/plain": [
              "<IPython.core.display.Javascript object>"
            ]
          },
          "metadata": {
            "tags": []
          },
          "output_type": "display_data"
        }
      ],
      "source": [
        "torch.save(net.state_dict(), 'tamil_net.pt')\n",
        "files.download('tamil_net.pt')"
      ]
    }
  ],
  "metadata": {
    "accelerator": "GPU",
    "colab": {
      "collapsed_sections": [],
      "name": "TamilNet.ipynb",
      "provenance": []
    },
    "kernelspec": {
      "display_name": "Python 3",
      "name": "python3"
    },
    "language_info": {
      "codemirror_mode": {
        "name": "ipython",
        "version": 3
      },
      "file_extension": ".py",
      "mimetype": "text/x-python",
      "name": "python",
      "nbconvert_exporter": "python",
      "pygments_lexer": "ipython3",
      "version": "3.12.2"
    }
  },
  "nbformat": 4,
  "nbformat_minor": 0
}
